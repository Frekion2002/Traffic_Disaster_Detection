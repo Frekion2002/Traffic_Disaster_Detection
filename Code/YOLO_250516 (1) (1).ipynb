{
 "cells": [
  {
   "cell_type": "code",
   "execution_count": 2,
   "id": "41a825b1",
   "metadata": {},
   "outputs": [],
   "source": [
    "from ultralytics import YOLO\n",
    "import os\n",
    "import shutil\n",
    "from sklearn.model_selection import train_test_split\n",
    "import torch\n",
    "import ultralytics\n",
    "import cv2\n",
    "import matplotlib.pyplot as plt\n",
    "from collections import defaultdict\n",
    "from pathlib import Path\n",
    "import glob\n",
    "import optuna\n",
    "from optuna.visualization import (\n",
    "    plot_optimization_history,\n",
    "    plot_param_importances,\n",
    "    plot_parallel_coordinate,\n",
    "    plot_slice\n",
    ")\n",
    "import matplotlib.pyplot as plt\n",
    "import numpy as np\n",
    "import random\n",
    "from PIL import Image, ImageEnhance, ImageOps\n",
    "os.environ['CUBLAS_WORKSPACE_CONFIG'] = ':4096:8'"
   ]
  },
  {
   "cell_type": "code",
   "execution_count": 3,
   "id": "49cd636d",
   "metadata": {},
   "outputs": [
    {
     "name": "stdout",
     "output_type": "stream",
     "text": [
      "PyTorch 버전: 2.0.1+cu117\n",
      "CUDA 사용 가능: True\n",
      "Ultralytics 버전: 8.3.0\n",
      "CUDA 버전: 11.7\n",
      "모델 작업 유형: detect\n"
     ]
    }
   ],
   "source": [
    "print(f\"PyTorch 버전: {torch.__version__}\")\n",
    "print(f\"CUDA 사용 가능: {torch.cuda.is_available()}\")\n",
    "print(f\"Ultralytics 버전: {ultralytics.__version__}\")\n",
    "print(f\"CUDA 버전: {torch.version.cuda}\")\n",
    "\n",
    "model = YOLO('yolov8n.pt')\n",
    "print(f\"모델 작업 유형: {model.task}\")"
   ]
  },
  {
   "cell_type": "code",
   "execution_count": 4,
   "id": "da6530c3",
   "metadata": {},
   "outputs": [],
   "source": [
    "# 자동 정제 스크립트 (박스 우선 유지)\n",
    "\n",
    "def clean_labels(label_dir):\n",
    "    for filename in os.listdir(label_dir):\n",
    "        filepath = os.path.join(label_dir, filename)\n",
    "        with open(filepath, 'r') as f:\n",
    "            lines = [l for l in f.readlines() if len(l.split()) == 5]\n",
    "        \n",
    "        with open(filepath, 'w') as f:\n",
    "            f.writelines(lines)\n",
    "        \n",
    "clean_labels(\"C:/Users/user/Downloads/dataset/dataset/labels/train\")\n",
    "clean_labels(\"C:/Users/user/Downloads/dataset/dataset/labels/val\")\n",
    "clean_labels(\"C:/Users/user/Downloads/dataset/dataset/labels/test\")"
   ]
  },
  {
   "cell_type": "code",
   "execution_count": 5,
   "id": "aaaef3d1",
   "metadata": {},
   "outputs": [
    {
     "name": "stdout",
     "output_type": "stream",
     "text": [
      "삭제된 비어있는 라벨 파일: 0개\n",
      "함께 삭제된 이미지 파일: 0개\n",
      "삭제된 비어있는 라벨 파일: 0개\n",
      "함께 삭제된 이미지 파일: 0개\n",
      "삭제된 비어있는 라벨 파일: 0개\n",
      "함께 삭제된 이미지 파일: 0개\n"
     ]
    }
   ],
   "source": [
    "# 비어있는 파일이 있는 경우 성능 저하를 야기할 수 있으므로 비어 있는 label 파일과 이미지도 같이 삭제하는 파일\n",
    "\n",
    "def clean_empty_labels(label_dir, image_dir=None, delete_images=False):\n",
    "    label_dir = Path(label_dir)\n",
    "    if image_dir:\n",
    "        image_dir = Path(image_dir)\n",
    "\n",
    "    removed_labels = 0\n",
    "    removed_images = 0\n",
    "\n",
    "    for label_file in label_dir.glob(\"*.txt\"):\n",
    "        if label_file.stat().st_size == 0:  # 파일이 비어있는지 확인\n",
    "            # 라벨 파일 삭제\n",
    "            label_file.unlink()\n",
    "            removed_labels += 1\n",
    "\n",
    "            if delete_images and image_dir:\n",
    "                # 이미지 파일명 추정 (확장자 jpg, png 등)\n",
    "                stem = label_file.stem\n",
    "                for ext in ['.jpg', '.jpeg', '.png', '.bmp']:\n",
    "                    img_file = image_dir / f\"{stem}{ext}\"\n",
    "                    if img_file.exists():\n",
    "                        img_file.unlink()\n",
    "                        removed_images += 1\n",
    "                        break\n",
    "\n",
    "    print(f\"삭제된 비어있는 라벨 파일: {removed_labels}개\")\n",
    "    if delete_images:\n",
    "        print(f\"함께 삭제된 이미지 파일: {removed_images}개\")\n",
    "\n",
    "        \n",
    "# 라벨과 이미지 모두 삭제\n",
    "clean_empty_labels(\n",
    "    label_dir=r\"C:\\Users\\user\\Downloads\\dataset\\dataset\\labels\\train\",\n",
    "    image_dir=r\"C:\\Users\\user\\Downloads\\dataset\\dataset\\images\\train\",\n",
    "    delete_images=True\n",
    ")\n",
    "\n",
    "clean_empty_labels(\n",
    "    label_dir=r\"C:\\Users\\user\\Downloads\\dataset\\dataset\\labels\\val\",\n",
    "    image_dir=r\"C:\\Users\\user\\Downloads\\dataset\\dataset\\images\\val\",\n",
    "    delete_images=True\n",
    ")\n",
    "\n",
    "clean_empty_labels(\n",
    "    label_dir=r\"C:\\Users\\user\\Downloads\\dataset\\dataset\\labels\\test\",\n",
    "    image_dir=r\"C:\\Users\\user\\Downloads\\dataset\\dataset\\images\\test\",\n",
    "    delete_images=True\n",
    ")"
   ]
  },
  {
   "cell_type": "code",
   "execution_count": 6,
   "id": "7cbf1e65",
   "metadata": {},
   "outputs": [
    {
     "name": "stdout",
     "output_type": "stream",
     "text": [
      "[C:\\Users\\user\\Downloads\\dataset\\dataset\\labels\\train] 비어있는 파일이 존재하지 않습니다.\n",
      "[C:\\Users\\user\\Downloads\\dataset\\dataset\\labels\\val] 비어있는 파일이 존재하지 않습니다.\n",
      "[C:\\Users\\user\\Downloads\\dataset\\dataset\\labels\\test] 비어있는 파일이 존재하지 않습니다.\n"
     ]
    }
   ],
   "source": [
    "# 비어있는 파일이 존재하는지 확인하는 코드\n",
    "\n",
    "def check_labels(label_path):\n",
    "    empty_found = False  # 비어있는 파일이 발견되었는지 여부\n",
    "    for lbl_file in Path(label_path).glob(\"*.txt\"):\n",
    "        with open(lbl_file) as f:\n",
    "            lines = f.readlines()\n",
    "            if not lines:\n",
    "                print(f\"Empty file: {lbl_file}\")\n",
    "                empty_found = True\n",
    "            for line in lines:\n",
    "                parts = line.strip().split()\n",
    "                if len(parts) != 5:\n",
    "                    print(f\"Invalid line in {lbl_file}: {line}\")\n",
    "    if not empty_found:\n",
    "        print(f\"[{label_path}] 비어있는 파일이 존재하지 않습니다.\")\n",
    "\n",
    "check_labels(r\"C:\\Users\\user\\Downloads\\dataset\\dataset\\labels\\train\")\n",
    "check_labels(r\"C:\\Users\\user\\Downloads\\dataset\\dataset\\labels\\val\")\n",
    "check_labels(r\"C:\\Users\\user\\Downloads\\dataset\\dataset\\labels\\test\")"
   ]
  },
  {
   "cell_type": "code",
   "execution_count": 7,
   "id": "4e44460a",
   "metadata": {},
   "outputs": [
    {
     "name": "stdout",
     "output_type": "stream",
     "text": [
      "2개의 캐시 파일 삭제 완료\n"
     ]
    }
   ],
   "source": [
    "# YOLO 학습 과정에서 생성되는 캐시 파일 삭제하는 코드\n",
    "\n",
    "cache_files = glob.glob(r\"C:/Users/user/Downloads/dataset/dataset/labels/*.cache\")\n",
    "for f in cache_files:\n",
    "    os.remove(f)\n",
    "print(f\"{len(cache_files)}개의 캐시 파일 삭제 완료\")\n"
   ]
  },
  {
   "cell_type": "code",
   "execution_count": 8,
   "id": "6067b7b8",
   "metadata": {
    "scrolled": true
   },
   "outputs": [
    {
     "name": "stdout",
     "output_type": "stream",
     "text": [
      "train 클래스별 인스턴스 수:\n",
      "Class 0: 3665개\n",
      "Class 1: 2596개\n",
      "Class 2: 5132개\n",
      "Class 3: 786개\n",
      "val 클래스별 인스턴스 수:\n",
      "Class 0: 408개\n",
      "Class 1: 137개\n",
      "Class 2: 251개\n",
      "Class 3: 140개\n",
      "test 클래스별 인스턴스 수:\n",
      "Class 0: 207개\n",
      "Class 1: 142개\n",
      "Class 2: 249개\n",
      "Class 3: 89개\n"
     ]
    }
   ],
   "source": [
    "# 클래스별 인스턴스 수를 확인할 수 있는 코드\n",
    "\n",
    "def count_instance_per_class(name, label_dir):\n",
    "    class_counts = defaultdict(int)\n",
    "\n",
    "    for label_file in Path(label_dir).glob(\"*.txt\"):\n",
    "        with open(label_file) as f:\n",
    "            for line in f:\n",
    "                if line.strip():\n",
    "                    class_id = int(line.split()[0])\n",
    "                    class_counts[class_id] += 1\n",
    "\n",
    "    print(\"{} 클래스별 인스턴스 수:\".format(name))\n",
    "    class_counts = dict(sorted(class_counts.items()))\n",
    "    for cls, cnt in class_counts.items():\n",
    "        print(f\"Class {cls}: {cnt}개\")\n",
    "\n",
    "count_instance_per_class(\"train\", r\"C:\\Users\\user\\Downloads\\dataset\\dataset\\labels\\train\")\n",
    "count_instance_per_class(\"val\", r\"C:\\Users\\user\\Downloads\\dataset\\dataset\\labels\\val\")\n",
    "count_instance_per_class(\"test\", r\"C:\\Users\\user\\Downloads\\dataset\\dataset\\labels\\test\")"
   ]
  },
  {
   "cell_type": "code",
   "execution_count": null,
   "id": "95abb210",
   "metadata": {
    "scrolled": true
   },
   "outputs": [
    {
     "name": "stderr",
     "output_type": "stream",
     "text": [
      "[I 2025-05-21 15:04:48,175] A new study created in memory with name: no-name-8969dcf6-5474-4262-a37a-5505cdb15ae9\n"
     ]
    },
    {
     "name": "stdout",
     "output_type": "stream",
     "text": [
      "Ultralytics 8.3.0  Python-3.10.9 torch-2.0.1+cu117 CUDA:0 (NVIDIA GeForce RTX 3080, 10240MiB)\n",
      "\u001b[34m\u001b[1mengine\\trainer: \u001b[0mtask=detect, mode=train, model=yolov8n.pt, data=C:\\Users\\user\\Downloads\\dataset\\dataset\\data.yaml, epochs=50, time=None, patience=20, batch=8, imgsz=800, save=True, save_period=-1, cache=False, device=cuda, workers=8, project=None, name=train36, exist_ok=False, pretrained=True, optimizer=auto, verbose=False, seed=0, deterministic=True, single_cls=False, rect=False, cos_lr=False, close_mosaic=10, resume=False, amp=True, fraction=1.0, profile=False, freeze=None, multi_scale=False, overlap_mask=True, mask_ratio=4, dropout=0.0, val=True, split=val, save_json=False, save_hybrid=False, conf=None, iou=0.7, max_det=300, half=False, dnn=False, plots=True, source=None, vid_stride=1, stream_buffer=False, visualize=False, augment=False, agnostic_nms=False, classes=None, retina_masks=False, embed=None, show=False, save_frames=False, save_txt=False, save_conf=False, save_crop=False, show_labels=True, show_conf=True, show_boxes=True, line_width=None, format=torchscript, keras=False, optimize=False, int8=False, dynamic=False, simplify=True, opset=None, workspace=4, nms=False, lr0=0.006164824553889842, lrf=0.01, momentum=0.937, weight_decay=0.0005, warmup_epochs=3.0, warmup_momentum=0.8, warmup_bias_lr=0.1, box=7.5, cls=0.5, dfl=1.5, pose=12.0, kobj=1.0, label_smoothing=0.0, nbs=64, hsv_h=0.015, hsv_s=0.7, hsv_v=0.4, degrees=0.0, translate=0.1, scale=0.5, shear=0.0, perspective=0.0, flipud=0.0, fliplr=0.5, bgr=0.0, mosaic=0.17721783978269168, mixup=0.0, copy_paste=0.0, copy_paste_mode=flip, auto_augment=randaugment, erasing=0.4, crop_fraction=1.0, cfg=None, tracker=botsort.yaml, save_dir=runs\\detect\\train36\n",
      "Overriding model.yaml nc=80 with nc=4\n",
      "\n",
      "                   from  n    params  module                                       arguments                     \n",
      "  0                  -1  1       464  ultralytics.nn.modules.conv.Conv             [3, 16, 3, 2]                 \n",
      "  1                  -1  1      4672  ultralytics.nn.modules.conv.Conv             [16, 32, 3, 2]                \n",
      "  2                  -1  1      7360  ultralytics.nn.modules.block.C2f             [32, 32, 1, True]             \n",
      "  3                  -1  1     18560  ultralytics.nn.modules.conv.Conv             [32, 64, 3, 2]                \n",
      "  4                  -1  2     49664  ultralytics.nn.modules.block.C2f             [64, 64, 2, True]             \n",
      "  5                  -1  1     73984  ultralytics.nn.modules.conv.Conv             [64, 128, 3, 2]               \n",
      "  6                  -1  2    197632  ultralytics.nn.modules.block.C2f             [128, 128, 2, True]           \n",
      "  7                  -1  1    295424  ultralytics.nn.modules.conv.Conv             [128, 256, 3, 2]              \n",
      "  8                  -1  1    460288  ultralytics.nn.modules.block.C2f             [256, 256, 1, True]           \n",
      "  9                  -1  1    164608  ultralytics.nn.modules.block.SPPF            [256, 256, 5]                 \n",
      " 10                  -1  1         0  torch.nn.modules.upsampling.Upsample         [None, 2, 'nearest']          \n",
      " 11             [-1, 6]  1         0  ultralytics.nn.modules.conv.Concat           [1]                           \n",
      " 12                  -1  1    148224  ultralytics.nn.modules.block.C2f             [384, 128, 1]                 \n",
      " 13                  -1  1         0  torch.nn.modules.upsampling.Upsample         [None, 2, 'nearest']          \n",
      " 14             [-1, 4]  1         0  ultralytics.nn.modules.conv.Concat           [1]                           \n",
      " 15                  -1  1     37248  ultralytics.nn.modules.block.C2f             [192, 64, 1]                  \n",
      " 16                  -1  1     36992  ultralytics.nn.modules.conv.Conv             [64, 64, 3, 2]                \n",
      " 17            [-1, 12]  1         0  ultralytics.nn.modules.conv.Concat           [1]                           \n",
      " 18                  -1  1    123648  ultralytics.nn.modules.block.C2f             [192, 128, 1]                 \n",
      " 19                  -1  1    147712  ultralytics.nn.modules.conv.Conv             [128, 128, 3, 2]              \n",
      " 20             [-1, 9]  1         0  ultralytics.nn.modules.conv.Concat           [1]                           \n",
      " 21                  -1  1    493056  ultralytics.nn.modules.block.C2f             [384, 256, 1]                 \n",
      " 22        [15, 18, 21]  1    431452  ultralytics.nn.modules.head.Detect           [4, [64, 128, 256]]           \n",
      "Model summary: 249 layers, 2,690,988 parameters, 2,690,972 gradients, 6.9 GFLOPs\n",
      "\n",
      "Transferred 313/391 items from pretrained weights\n",
      "Freezing layer 'model.22.dfl.conv.weight'\n",
      "\u001b[34m\u001b[1mAMP: \u001b[0mrunning Automatic Mixed Precision (AMP) checks with YOLOv8n...\n"
     ]
    },
    {
     "name": "stderr",
     "output_type": "stream",
     "text": [
      "C:\\Users\\user\\anaconda3\\lib\\site-packages\\ultralytics\\utils\\torch_utils.py:254: UserWarning: Deterministic behavior was enabled with either `torch.use_deterministic_algorithms(True)` or `at::Context::setDeterministicAlgorithms(true)`, but this operation is not deterministic because it uses CuBLAS and you have CUDA >= 10.2. To enable deterministic behavior in this case, you must set an environment variable before running your PyTorch application: CUBLAS_WORKSPACE_CONFIG=:4096:8 or CUBLAS_WORKSPACE_CONFIG=:16:8. For more information, go to https://docs.nvidia.com/cuda/cublas/index.html#cublasApi_reproducibility (Triggered internally at ..\\aten\\src\\ATen\\Context.cpp:156.)\n",
      "  fusedconv.weight.copy_(torch.mm(w_bn, w_conv).view(fusedconv.weight.shape))\n",
      "C:\\Users\\user\\anaconda3\\lib\\site-packages\\ultralytics\\utils\\torch_utils.py:259: UserWarning: Deterministic behavior was enabled with either `torch.use_deterministic_algorithms(True)` or `at::Context::setDeterministicAlgorithms(true)`, but this operation is not deterministic because it uses CuBLAS and you have CUDA >= 10.2. To enable deterministic behavior in this case, you must set an environment variable before running your PyTorch application: CUBLAS_WORKSPACE_CONFIG=:4096:8 or CUBLAS_WORKSPACE_CONFIG=:16:8. For more information, go to https://docs.nvidia.com/cuda/cublas/index.html#cublasApi_reproducibility (Triggered internally at ..\\aten\\src\\ATen\\Context.cpp:156.)\n",
      "  fusedconv.bias.copy_(torch.mm(w_bn, b_conv.reshape(-1, 1)).reshape(-1) + b_bn)\n"
     ]
    },
    {
     "name": "stdout",
     "output_type": "stream",
     "text": [
      "\u001b[34m\u001b[1mAMP: \u001b[0mchecks passed \n"
     ]
    },
    {
     "name": "stderr",
     "output_type": "stream",
     "text": [
      "\u001b[34m\u001b[1mtrain: \u001b[0mScanning C:\\Users\\user\\Downloads\\dataset\\dataset\\labels\\train... 6967 images, 0 backgrounds, 0 corrupt: 100%|███\u001b[0m\n"
     ]
    },
    {
     "name": "stdout",
     "output_type": "stream",
     "text": [
      "\u001b[34m\u001b[1mtrain: \u001b[0mNew cache created: C:\\Users\\user\\Downloads\\dataset\\dataset\\labels\\train.cache\n"
     ]
    },
    {
     "name": "stderr",
     "output_type": "stream",
     "text": [
      "\u001b[34m\u001b[1mval: \u001b[0mScanning C:\\Users\\user\\Downloads\\dataset\\dataset\\labels\\val... 752 images, 0 backgrounds, 0 corrupt: 100%|████████\u001b[0m\n"
     ]
    },
    {
     "name": "stdout",
     "output_type": "stream",
     "text": [
      "\u001b[34m\u001b[1mval: \u001b[0mNew cache created: C:\\Users\\user\\Downloads\\dataset\\dataset\\labels\\val.cache\n",
      "Plotting labels to runs\\detect\\train36\\labels.jpg... \n",
      "\u001b[34m\u001b[1moptimizer:\u001b[0m 'optimizer=auto' found, ignoring 'lr0=0.006164824553889842' and 'momentum=0.937' and determining best 'optimizer', 'lr0' and 'momentum' automatically... \n",
      "\u001b[34m\u001b[1moptimizer:\u001b[0m AdamW(lr=0.00125, momentum=0.9) with parameter groups 63 weight(decay=0.0), 70 weight(decay=0.0005), 69 bias(decay=0.0)\n",
      "Image sizes 800 train, 800 val\n",
      "Using 8 dataloader workers\n",
      "Logging results to \u001b[1mruns\\detect\\train36\u001b[0m\n",
      "Starting training for 50 epochs...\n",
      "\n",
      "      Epoch    GPU_mem   box_loss   cls_loss   dfl_loss  Instances       Size\n"
     ]
    },
    {
     "name": "stderr",
     "output_type": "stream",
     "text": [
      "  0%|          | 0/871 [00:00<?, ?it/s]C:\\Users\\user\\anaconda3\\lib\\site-packages\\ultralytics\\utils\\loss.py:202: UserWarning: Deterministic behavior was enabled with either `torch.use_deterministic_algorithms(True)` or `at::Context::setDeterministicAlgorithms(true)`, but this operation is not deterministic because it uses CuBLAS and you have CUDA >= 10.2. To enable deterministic behavior in this case, you must set an environment variable before running your PyTorch application: CUBLAS_WORKSPACE_CONFIG=:4096:8 or CUBLAS_WORKSPACE_CONFIG=:16:8. For more information, go to https://docs.nvidia.com/cuda/cublas/index.html#cublasApi_reproducibility (Triggered internally at ..\\aten\\src\\ATen\\Context.cpp:156.)\n",
      "  pred_dist = pred_dist.view(b, a, 4, c // 4).softmax(3).matmul(self.proj.type(pred_dist.dtype))\n",
      "       1/50      1.85G      1.596      3.548      1.809         12        800: 100%|██████████| 871/871 [01:21<00:00, 1\n",
      "                 Class     Images  Instances      Box(P          R      mAP50  mAP50-95): 100%|██████████| 47/47 [00:04"
     ]
    },
    {
     "name": "stdout",
     "output_type": "stream",
     "text": [
      "                   all        752        936      0.296      0.377      0.236      0.107\n"
     ]
    },
    {
     "name": "stderr",
     "output_type": "stream",
     "text": [
      "\n"
     ]
    },
    {
     "name": "stdout",
     "output_type": "stream",
     "text": [
      "\n",
      "      Epoch    GPU_mem   box_loss   cls_loss   dfl_loss  Instances       Size\n"
     ]
    },
    {
     "name": "stderr",
     "output_type": "stream",
     "text": [
      "  0%|          | 0/871 [00:00<?, ?it/s]C:\\Users\\user\\anaconda3\\lib\\site-packages\\ultralytics\\utils\\loss.py:202: UserWarning: Deterministic behavior was enabled with either `torch.use_deterministic_algorithms(True)` or `at::Context::setDeterministicAlgorithms(true)`, but this operation is not deterministic because it uses CuBLAS and you have CUDA >= 10.2. To enable deterministic behavior in this case, you must set an environment variable before running your PyTorch application: CUBLAS_WORKSPACE_CONFIG=:4096:8 or CUBLAS_WORKSPACE_CONFIG=:16:8. For more information, go to https://docs.nvidia.com/cuda/cublas/index.html#cublasApi_reproducibility (Triggered internally at ..\\aten\\src\\ATen\\Context.cpp:156.)\n",
      "  pred_dist = pred_dist.view(b, a, 4, c // 4).softmax(3).matmul(self.proj.type(pred_dist.dtype))\n",
      "       2/50      1.74G      1.634      2.395      1.839         10        800: 100%|██████████| 871/871 [01:11<00:00, 1\n",
      "                 Class     Images  Instances      Box(P          R      mAP50  mAP50-95): 100%|██████████| 47/47 [00:04"
     ]
    },
    {
     "name": "stdout",
     "output_type": "stream",
     "text": [
      "                   all        752        936      0.455      0.454      0.404      0.215\n"
     ]
    },
    {
     "name": "stderr",
     "output_type": "stream",
     "text": [
      "\n"
     ]
    },
    {
     "name": "stdout",
     "output_type": "stream",
     "text": [
      "\n",
      "      Epoch    GPU_mem   box_loss   cls_loss   dfl_loss  Instances       Size\n"
     ]
    },
    {
     "name": "stderr",
     "output_type": "stream",
     "text": [
      "  0%|          | 0/871 [00:00<?, ?it/s]C:\\Users\\user\\anaconda3\\lib\\site-packages\\ultralytics\\utils\\loss.py:202: UserWarning: Deterministic behavior was enabled with either `torch.use_deterministic_algorithms(True)` or `at::Context::setDeterministicAlgorithms(true)`, but this operation is not deterministic because it uses CuBLAS and you have CUDA >= 10.2. To enable deterministic behavior in this case, you must set an environment variable before running your PyTorch application: CUBLAS_WORKSPACE_CONFIG=:4096:8 or CUBLAS_WORKSPACE_CONFIG=:16:8. For more information, go to https://docs.nvidia.com/cuda/cublas/index.html#cublasApi_reproducibility (Triggered internally at ..\\aten\\src\\ATen\\Context.cpp:156.)\n",
      "  pred_dist = pred_dist.view(b, a, 4, c // 4).softmax(3).matmul(self.proj.type(pred_dist.dtype))\n",
      "       3/50      1.74G      1.624      2.131      1.826         14        800: 100%|██████████| 871/871 [01:09<00:00, 1\n",
      "                 Class     Images  Instances      Box(P          R      mAP50  mAP50-95): 100%|██████████| 47/47 [00:04"
     ]
    },
    {
     "name": "stdout",
     "output_type": "stream",
     "text": [
      "                   all        752        936      0.502      0.403      0.418      0.228\n"
     ]
    },
    {
     "name": "stderr",
     "output_type": "stream",
     "text": [
      "\n"
     ]
    },
    {
     "name": "stdout",
     "output_type": "stream",
     "text": [
      "\n",
      "      Epoch    GPU_mem   box_loss   cls_loss   dfl_loss  Instances       Size\n"
     ]
    },
    {
     "name": "stderr",
     "output_type": "stream",
     "text": [
      "  0%|          | 0/871 [00:00<?, ?it/s]C:\\Users\\user\\anaconda3\\lib\\site-packages\\ultralytics\\utils\\loss.py:202: UserWarning: Deterministic behavior was enabled with either `torch.use_deterministic_algorithms(True)` or `at::Context::setDeterministicAlgorithms(true)`, but this operation is not deterministic because it uses CuBLAS and you have CUDA >= 10.2. To enable deterministic behavior in this case, you must set an environment variable before running your PyTorch application: CUBLAS_WORKSPACE_CONFIG=:4096:8 or CUBLAS_WORKSPACE_CONFIG=:16:8. For more information, go to https://docs.nvidia.com/cuda/cublas/index.html#cublasApi_reproducibility (Triggered internally at ..\\aten\\src\\ATen\\Context.cpp:156.)\n",
      "  pred_dist = pred_dist.view(b, a, 4, c // 4).softmax(3).matmul(self.proj.type(pred_dist.dtype))\n",
      "       4/50      1.74G       1.57      1.986      1.792          9        800: 100%|██████████| 871/871 [01:09<00:00, 1\n",
      "                 Class     Images  Instances      Box(P          R      mAP50  mAP50-95): 100%|██████████| 47/47 [00:04"
     ]
    },
    {
     "name": "stdout",
     "output_type": "stream",
     "text": [
      "                   all        752        936      0.615      0.478       0.52      0.298\n"
     ]
    },
    {
     "name": "stderr",
     "output_type": "stream",
     "text": [
      "\n"
     ]
    },
    {
     "name": "stdout",
     "output_type": "stream",
     "text": [
      "\n",
      "      Epoch    GPU_mem   box_loss   cls_loss   dfl_loss  Instances       Size\n"
     ]
    },
    {
     "name": "stderr",
     "output_type": "stream",
     "text": [
      "  0%|          | 0/871 [00:00<?, ?it/s]C:\\Users\\user\\anaconda3\\lib\\site-packages\\ultralytics\\utils\\loss.py:202: UserWarning: Deterministic behavior was enabled with either `torch.use_deterministic_algorithms(True)` or `at::Context::setDeterministicAlgorithms(true)`, but this operation is not deterministic because it uses CuBLAS and you have CUDA >= 10.2. To enable deterministic behavior in this case, you must set an environment variable before running your PyTorch application: CUBLAS_WORKSPACE_CONFIG=:4096:8 or CUBLAS_WORKSPACE_CONFIG=:16:8. For more information, go to https://docs.nvidia.com/cuda/cublas/index.html#cublasApi_reproducibility (Triggered internally at ..\\aten\\src\\ATen\\Context.cpp:156.)\n",
      "  pred_dist = pred_dist.view(b, a, 4, c // 4).softmax(3).matmul(self.proj.type(pred_dist.dtype))\n",
      "       5/50      1.82G      1.519      1.855      1.737         18        800: 100%|██████████| 871/871 [01:08<00:00, 1\n",
      "                 Class     Images  Instances      Box(P          R      mAP50  mAP50-95): 100%|██████████| 47/47 [00:03"
     ]
    },
    {
     "name": "stdout",
     "output_type": "stream",
     "text": [
      "                   all        752        936      0.615      0.551       0.57      0.314\n"
     ]
    },
    {
     "name": "stderr",
     "output_type": "stream",
     "text": [
      "\n"
     ]
    },
    {
     "name": "stdout",
     "output_type": "stream",
     "text": [
      "\n",
      "      Epoch    GPU_mem   box_loss   cls_loss   dfl_loss  Instances       Size\n"
     ]
    },
    {
     "name": "stderr",
     "output_type": "stream",
     "text": [
      "  0%|          | 0/871 [00:00<?, ?it/s]C:\\Users\\user\\anaconda3\\lib\\site-packages\\ultralytics\\utils\\loss.py:202: UserWarning: Deterministic behavior was enabled with either `torch.use_deterministic_algorithms(True)` or `at::Context::setDeterministicAlgorithms(true)`, but this operation is not deterministic because it uses CuBLAS and you have CUDA >= 10.2. To enable deterministic behavior in this case, you must set an environment variable before running your PyTorch application: CUBLAS_WORKSPACE_CONFIG=:4096:8 or CUBLAS_WORKSPACE_CONFIG=:16:8. For more information, go to https://docs.nvidia.com/cuda/cublas/index.html#cublasApi_reproducibility (Triggered internally at ..\\aten\\src\\ATen\\Context.cpp:156.)\n",
      "  pred_dist = pred_dist.view(b, a, 4, c // 4).softmax(3).matmul(self.proj.type(pred_dist.dtype))\n",
      "       6/50      1.85G      1.489      1.742      1.711         14        800: 100%|██████████| 871/871 [01:09<00:00, 1\n",
      "                 Class     Images  Instances      Box(P          R      mAP50  mAP50-95): 100%|██████████| 47/47 [00:04"
     ]
    },
    {
     "name": "stdout",
     "output_type": "stream",
     "text": [
      "                   all        752        936      0.603      0.549      0.586       0.33\n"
     ]
    },
    {
     "name": "stderr",
     "output_type": "stream",
     "text": [
      "\n"
     ]
    },
    {
     "name": "stdout",
     "output_type": "stream",
     "text": [
      "\n",
      "      Epoch    GPU_mem   box_loss   cls_loss   dfl_loss  Instances       Size\n"
     ]
    },
    {
     "name": "stderr",
     "output_type": "stream",
     "text": [
      "  0%|          | 0/871 [00:00<?, ?it/s]C:\\Users\\user\\anaconda3\\lib\\site-packages\\ultralytics\\utils\\loss.py:202: UserWarning: Deterministic behavior was enabled with either `torch.use_deterministic_algorithms(True)` or `at::Context::setDeterministicAlgorithms(true)`, but this operation is not deterministic because it uses CuBLAS and you have CUDA >= 10.2. To enable deterministic behavior in this case, you must set an environment variable before running your PyTorch application: CUBLAS_WORKSPACE_CONFIG=:4096:8 or CUBLAS_WORKSPACE_CONFIG=:16:8. For more information, go to https://docs.nvidia.com/cuda/cublas/index.html#cublasApi_reproducibility (Triggered internally at ..\\aten\\src\\ATen\\Context.cpp:156.)\n",
      "  pred_dist = pred_dist.view(b, a, 4, c // 4).softmax(3).matmul(self.proj.type(pred_dist.dtype))\n",
      "       7/50       1.8G      1.434      1.645      1.663         18        800: 100%|██████████| 871/871 [01:09<00:00, 1\n",
      "                 Class     Images  Instances      Box(P          R      mAP50  mAP50-95): 100%|██████████| 47/47 [00:04"
     ]
    },
    {
     "name": "stdout",
     "output_type": "stream",
     "text": [
      "                   all        752        936      0.631      0.604      0.618      0.367\n"
     ]
    },
    {
     "name": "stderr",
     "output_type": "stream",
     "text": [
      "\n"
     ]
    },
    {
     "name": "stdout",
     "output_type": "stream",
     "text": [
      "\n",
      "      Epoch    GPU_mem   box_loss   cls_loss   dfl_loss  Instances       Size\n"
     ]
    },
    {
     "name": "stderr",
     "output_type": "stream",
     "text": [
      "  0%|          | 0/871 [00:00<?, ?it/s]C:\\Users\\user\\anaconda3\\lib\\site-packages\\ultralytics\\utils\\loss.py:202: UserWarning: Deterministic behavior was enabled with either `torch.use_deterministic_algorithms(True)` or `at::Context::setDeterministicAlgorithms(true)`, but this operation is not deterministic because it uses CuBLAS and you have CUDA >= 10.2. To enable deterministic behavior in this case, you must set an environment variable before running your PyTorch application: CUBLAS_WORKSPACE_CONFIG=:4096:8 or CUBLAS_WORKSPACE_CONFIG=:16:8. For more information, go to https://docs.nvidia.com/cuda/cublas/index.html#cublasApi_reproducibility (Triggered internally at ..\\aten\\src\\ATen\\Context.cpp:156.)\n",
      "  pred_dist = pred_dist.view(b, a, 4, c // 4).softmax(3).matmul(self.proj.type(pred_dist.dtype))\n",
      "       8/50      1.82G      1.406      1.584      1.643         16        800: 100%|██████████| 871/871 [01:09<00:00, 1\n",
      "                 Class     Images  Instances      Box(P          R      mAP50  mAP50-95): 100%|██████████| 47/47 [00:04"
     ]
    },
    {
     "name": "stdout",
     "output_type": "stream",
     "text": [
      "                   all        752        936      0.731      0.619      0.675      0.402\n"
     ]
    },
    {
     "name": "stderr",
     "output_type": "stream",
     "text": [
      "\n"
     ]
    },
    {
     "name": "stdout",
     "output_type": "stream",
     "text": [
      "\n",
      "      Epoch    GPU_mem   box_loss   cls_loss   dfl_loss  Instances       Size\n"
     ]
    },
    {
     "name": "stderr",
     "output_type": "stream",
     "text": [
      "  0%|          | 0/871 [00:00<?, ?it/s]C:\\Users\\user\\anaconda3\\lib\\site-packages\\ultralytics\\utils\\loss.py:202: UserWarning: Deterministic behavior was enabled with either `torch.use_deterministic_algorithms(True)` or `at::Context::setDeterministicAlgorithms(true)`, but this operation is not deterministic because it uses CuBLAS and you have CUDA >= 10.2. To enable deterministic behavior in this case, you must set an environment variable before running your PyTorch application: CUBLAS_WORKSPACE_CONFIG=:4096:8 or CUBLAS_WORKSPACE_CONFIG=:16:8. For more information, go to https://docs.nvidia.com/cuda/cublas/index.html#cublasApi_reproducibility (Triggered internally at ..\\aten\\src\\ATen\\Context.cpp:156.)\n",
      "  pred_dist = pred_dist.view(b, a, 4, c // 4).softmax(3).matmul(self.proj.type(pred_dist.dtype))\n",
      "       9/50      1.74G      1.374      1.508       1.61         13        800: 100%|██████████| 871/871 [01:09<00:00, 1\n",
      "                 Class     Images  Instances      Box(P          R      mAP50  mAP50-95): 100%|██████████| 47/47 [00:04"
     ]
    },
    {
     "name": "stdout",
     "output_type": "stream",
     "text": [
      "                   all        752        936      0.662      0.643       0.66      0.388\n"
     ]
    },
    {
     "name": "stderr",
     "output_type": "stream",
     "text": [
      "\n"
     ]
    },
    {
     "name": "stdout",
     "output_type": "stream",
     "text": [
      "\n",
      "      Epoch    GPU_mem   box_loss   cls_loss   dfl_loss  Instances       Size\n"
     ]
    },
    {
     "name": "stderr",
     "output_type": "stream",
     "text": [
      "  0%|          | 0/871 [00:00<?, ?it/s]C:\\Users\\user\\anaconda3\\lib\\site-packages\\ultralytics\\utils\\loss.py:202: UserWarning: Deterministic behavior was enabled with either `torch.use_deterministic_algorithms(True)` or `at::Context::setDeterministicAlgorithms(true)`, but this operation is not deterministic because it uses CuBLAS and you have CUDA >= 10.2. To enable deterministic behavior in this case, you must set an environment variable before running your PyTorch application: CUBLAS_WORKSPACE_CONFIG=:4096:8 or CUBLAS_WORKSPACE_CONFIG=:16:8. For more information, go to https://docs.nvidia.com/cuda/cublas/index.html#cublasApi_reproducibility (Triggered internally at ..\\aten\\src\\ATen\\Context.cpp:156.)\n",
      "  pred_dist = pred_dist.view(b, a, 4, c // 4).softmax(3).matmul(self.proj.type(pred_dist.dtype))\n",
      "      10/50      1.82G      1.345      1.443      1.587         17        800: 100%|██████████| 871/871 [01:08<00:00, 1\n",
      "                 Class     Images  Instances      Box(P          R      mAP50  mAP50-95): 100%|██████████| 47/47 [00:04"
     ]
    },
    {
     "name": "stdout",
     "output_type": "stream",
     "text": [
      "                   all        752        936      0.756      0.631      0.693      0.426\n"
     ]
    },
    {
     "name": "stderr",
     "output_type": "stream",
     "text": [
      "\n"
     ]
    },
    {
     "name": "stdout",
     "output_type": "stream",
     "text": [
      "\n",
      "      Epoch    GPU_mem   box_loss   cls_loss   dfl_loss  Instances       Size\n"
     ]
    },
    {
     "name": "stderr",
     "output_type": "stream",
     "text": [
      "  0%|          | 0/871 [00:00<?, ?it/s]C:\\Users\\user\\anaconda3\\lib\\site-packages\\ultralytics\\utils\\loss.py:202: UserWarning: Deterministic behavior was enabled with either `torch.use_deterministic_algorithms(True)` or `at::Context::setDeterministicAlgorithms(true)`, but this operation is not deterministic because it uses CuBLAS and you have CUDA >= 10.2. To enable deterministic behavior in this case, you must set an environment variable before running your PyTorch application: CUBLAS_WORKSPACE_CONFIG=:4096:8 or CUBLAS_WORKSPACE_CONFIG=:16:8. For more information, go to https://docs.nvidia.com/cuda/cublas/index.html#cublasApi_reproducibility (Triggered internally at ..\\aten\\src\\ATen\\Context.cpp:156.)\n",
      "  pred_dist = pred_dist.view(b, a, 4, c // 4).softmax(3).matmul(self.proj.type(pred_dist.dtype))\n",
      "      11/50      1.84G      1.328      1.416      1.578         17        800: 100%|██████████| 871/871 [01:09<00:00, 1\n",
      "                 Class     Images  Instances      Box(P          R      mAP50  mAP50-95): 100%|██████████| 47/47 [00:03"
     ]
    },
    {
     "name": "stdout",
     "output_type": "stream",
     "text": [
      "                   all        752        936      0.702       0.68      0.712      0.451\n"
     ]
    },
    {
     "name": "stderr",
     "output_type": "stream",
     "text": [
      "\n"
     ]
    },
    {
     "name": "stdout",
     "output_type": "stream",
     "text": [
      "\n",
      "      Epoch    GPU_mem   box_loss   cls_loss   dfl_loss  Instances       Size\n"
     ]
    },
    {
     "name": "stderr",
     "output_type": "stream",
     "text": [
      "  0%|          | 0/871 [00:00<?, ?it/s]C:\\Users\\user\\anaconda3\\lib\\site-packages\\ultralytics\\utils\\loss.py:202: UserWarning: Deterministic behavior was enabled with either `torch.use_deterministic_algorithms(True)` or `at::Context::setDeterministicAlgorithms(true)`, but this operation is not deterministic because it uses CuBLAS and you have CUDA >= 10.2. To enable deterministic behavior in this case, you must set an environment variable before running your PyTorch application: CUBLAS_WORKSPACE_CONFIG=:4096:8 or CUBLAS_WORKSPACE_CONFIG=:16:8. For more information, go to https://docs.nvidia.com/cuda/cublas/index.html#cublasApi_reproducibility (Triggered internally at ..\\aten\\src\\ATen\\Context.cpp:156.)\n",
      "  pred_dist = pred_dist.view(b, a, 4, c // 4).softmax(3).matmul(self.proj.type(pred_dist.dtype))\n",
      "      12/50      1.85G      1.299      1.362      1.552         19        800: 100%|██████████| 871/871 [01:09<00:00, 1\n",
      "                 Class     Images  Instances      Box(P          R      mAP50  mAP50-95): 100%|██████████| 47/47 [00:04"
     ]
    },
    {
     "name": "stdout",
     "output_type": "stream",
     "text": [
      "                   all        752        936      0.715      0.676      0.702      0.435\n"
     ]
    },
    {
     "name": "stderr",
     "output_type": "stream",
     "text": [
      "\n"
     ]
    },
    {
     "name": "stdout",
     "output_type": "stream",
     "text": [
      "\n",
      "      Epoch    GPU_mem   box_loss   cls_loss   dfl_loss  Instances       Size\n"
     ]
    },
    {
     "name": "stderr",
     "output_type": "stream",
     "text": [
      "  0%|          | 0/871 [00:00<?, ?it/s]C:\\Users\\user\\anaconda3\\lib\\site-packages\\ultralytics\\utils\\loss.py:202: UserWarning: Deterministic behavior was enabled with either `torch.use_deterministic_algorithms(True)` or `at::Context::setDeterministicAlgorithms(true)`, but this operation is not deterministic because it uses CuBLAS and you have CUDA >= 10.2. To enable deterministic behavior in this case, you must set an environment variable before running your PyTorch application: CUBLAS_WORKSPACE_CONFIG=:4096:8 or CUBLAS_WORKSPACE_CONFIG=:16:8. For more information, go to https://docs.nvidia.com/cuda/cublas/index.html#cublasApi_reproducibility (Triggered internally at ..\\aten\\src\\ATen\\Context.cpp:156.)\n",
      "  pred_dist = pred_dist.view(b, a, 4, c // 4).softmax(3).matmul(self.proj.type(pred_dist.dtype))\n",
      "      13/50      1.82G      1.277      1.312      1.533         20        800: 100%|██████████| 871/871 [01:09<00:00, 1\n",
      "                 Class     Images  Instances      Box(P          R      mAP50  mAP50-95): 100%|██████████| 47/47 [00:03"
     ]
    },
    {
     "name": "stdout",
     "output_type": "stream",
     "text": [
      "                   all        752        936      0.773      0.649      0.716      0.461\n"
     ]
    },
    {
     "name": "stderr",
     "output_type": "stream",
     "text": [
      "\n"
     ]
    },
    {
     "name": "stdout",
     "output_type": "stream",
     "text": [
      "\n",
      "      Epoch    GPU_mem   box_loss   cls_loss   dfl_loss  Instances       Size\n"
     ]
    },
    {
     "name": "stderr",
     "output_type": "stream",
     "text": [
      "  0%|          | 0/871 [00:00<?, ?it/s]C:\\Users\\user\\anaconda3\\lib\\site-packages\\ultralytics\\utils\\loss.py:202: UserWarning: Deterministic behavior was enabled with either `torch.use_deterministic_algorithms(True)` or `at::Context::setDeterministicAlgorithms(true)`, but this operation is not deterministic because it uses CuBLAS and you have CUDA >= 10.2. To enable deterministic behavior in this case, you must set an environment variable before running your PyTorch application: CUBLAS_WORKSPACE_CONFIG=:4096:8 or CUBLAS_WORKSPACE_CONFIG=:16:8. For more information, go to https://docs.nvidia.com/cuda/cublas/index.html#cublasApi_reproducibility (Triggered internally at ..\\aten\\src\\ATen\\Context.cpp:156.)\n",
      "  pred_dist = pred_dist.view(b, a, 4, c // 4).softmax(3).matmul(self.proj.type(pred_dist.dtype))\n",
      "      14/50       1.8G      1.262      1.289      1.524         13        800: 100%|██████████| 871/871 [01:09<00:00, 1\n",
      "                 Class     Images  Instances      Box(P          R      mAP50  mAP50-95): 100%|██████████| 47/47 [00:03"
     ]
    },
    {
     "name": "stdout",
     "output_type": "stream",
     "text": [
      "                   all        752        936      0.791      0.681      0.739      0.478\n"
     ]
    },
    {
     "name": "stderr",
     "output_type": "stream",
     "text": [
      "\n"
     ]
    },
    {
     "name": "stdout",
     "output_type": "stream",
     "text": [
      "\n",
      "      Epoch    GPU_mem   box_loss   cls_loss   dfl_loss  Instances       Size\n"
     ]
    },
    {
     "name": "stderr",
     "output_type": "stream",
     "text": [
      "  0%|          | 0/871 [00:00<?, ?it/s]C:\\Users\\user\\anaconda3\\lib\\site-packages\\ultralytics\\utils\\loss.py:202: UserWarning: Deterministic behavior was enabled with either `torch.use_deterministic_algorithms(True)` or `at::Context::setDeterministicAlgorithms(true)`, but this operation is not deterministic because it uses CuBLAS and you have CUDA >= 10.2. To enable deterministic behavior in this case, you must set an environment variable before running your PyTorch application: CUBLAS_WORKSPACE_CONFIG=:4096:8 or CUBLAS_WORKSPACE_CONFIG=:16:8. For more information, go to https://docs.nvidia.com/cuda/cublas/index.html#cublasApi_reproducibility (Triggered internally at ..\\aten\\src\\ATen\\Context.cpp:156.)\n",
      "  pred_dist = pred_dist.view(b, a, 4, c // 4).softmax(3).matmul(self.proj.type(pred_dist.dtype))\n",
      "      15/50      1.82G      1.243      1.246      1.499         11        800: 100%|██████████| 871/871 [01:09<00:00, 1\n",
      "                 Class     Images  Instances      Box(P          R      mAP50  mAP50-95): 100%|██████████| 47/47 [00:03"
     ]
    },
    {
     "name": "stdout",
     "output_type": "stream",
     "text": [
      "                   all        752        936      0.742      0.699      0.738      0.476\n"
     ]
    },
    {
     "name": "stderr",
     "output_type": "stream",
     "text": [
      "\n"
     ]
    },
    {
     "name": "stdout",
     "output_type": "stream",
     "text": [
      "\n",
      "      Epoch    GPU_mem   box_loss   cls_loss   dfl_loss  Instances       Size\n"
     ]
    },
    {
     "name": "stderr",
     "output_type": "stream",
     "text": [
      "  0%|          | 0/871 [00:00<?, ?it/s]C:\\Users\\user\\anaconda3\\lib\\site-packages\\ultralytics\\utils\\loss.py:202: UserWarning: Deterministic behavior was enabled with either `torch.use_deterministic_algorithms(True)` or `at::Context::setDeterministicAlgorithms(true)`, but this operation is not deterministic because it uses CuBLAS and you have CUDA >= 10.2. To enable deterministic behavior in this case, you must set an environment variable before running your PyTorch application: CUBLAS_WORKSPACE_CONFIG=:4096:8 or CUBLAS_WORKSPACE_CONFIG=:16:8. For more information, go to https://docs.nvidia.com/cuda/cublas/index.html#cublasApi_reproducibility (Triggered internally at ..\\aten\\src\\ATen\\Context.cpp:156.)\n",
      "  pred_dist = pred_dist.view(b, a, 4, c // 4).softmax(3).matmul(self.proj.type(pred_dist.dtype))\n",
      "      16/50      1.82G      1.233      1.217      1.492          7        800: 100%|██████████| 871/871 [01:08<00:00, 1\n",
      "                 Class     Images  Instances      Box(P          R      mAP50  mAP50-95): 100%|██████████| 47/47 [00:03"
     ]
    },
    {
     "name": "stdout",
     "output_type": "stream",
     "text": [
      "                   all        752        936      0.827      0.684      0.767      0.498\n"
     ]
    },
    {
     "name": "stderr",
     "output_type": "stream",
     "text": [
      "\n"
     ]
    },
    {
     "name": "stdout",
     "output_type": "stream",
     "text": [
      "\n",
      "      Epoch    GPU_mem   box_loss   cls_loss   dfl_loss  Instances       Size\n"
     ]
    },
    {
     "name": "stderr",
     "output_type": "stream",
     "text": [
      "  0%|          | 0/871 [00:00<?, ?it/s]C:\\Users\\user\\anaconda3\\lib\\site-packages\\ultralytics\\utils\\loss.py:202: UserWarning: Deterministic behavior was enabled with either `torch.use_deterministic_algorithms(True)` or `at::Context::setDeterministicAlgorithms(true)`, but this operation is not deterministic because it uses CuBLAS and you have CUDA >= 10.2. To enable deterministic behavior in this case, you must set an environment variable before running your PyTorch application: CUBLAS_WORKSPACE_CONFIG=:4096:8 or CUBLAS_WORKSPACE_CONFIG=:16:8. For more information, go to https://docs.nvidia.com/cuda/cublas/index.html#cublasApi_reproducibility (Triggered internally at ..\\aten\\src\\ATen\\Context.cpp:156.)\n",
      "  pred_dist = pred_dist.view(b, a, 4, c // 4).softmax(3).matmul(self.proj.type(pred_dist.dtype))\n",
      "      17/50      1.83G      1.218      1.194      1.479         12        800: 100%|██████████| 871/871 [01:09<00:00, 1\n",
      "                 Class     Images  Instances      Box(P          R      mAP50  mAP50-95): 100%|██████████| 47/47 [00:04"
     ]
    },
    {
     "name": "stdout",
     "output_type": "stream",
     "text": [
      "                   all        752        936      0.794      0.676      0.749      0.485\n"
     ]
    },
    {
     "name": "stderr",
     "output_type": "stream",
     "text": [
      "\n"
     ]
    },
    {
     "name": "stdout",
     "output_type": "stream",
     "text": [
      "\n",
      "      Epoch    GPU_mem   box_loss   cls_loss   dfl_loss  Instances       Size\n"
     ]
    },
    {
     "name": "stderr",
     "output_type": "stream",
     "text": [
      "  0%|          | 0/871 [00:00<?, ?it/s]C:\\Users\\user\\anaconda3\\lib\\site-packages\\ultralytics\\utils\\loss.py:202: UserWarning: Deterministic behavior was enabled with either `torch.use_deterministic_algorithms(True)` or `at::Context::setDeterministicAlgorithms(true)`, but this operation is not deterministic because it uses CuBLAS and you have CUDA >= 10.2. To enable deterministic behavior in this case, you must set an environment variable before running your PyTorch application: CUBLAS_WORKSPACE_CONFIG=:4096:8 or CUBLAS_WORKSPACE_CONFIG=:16:8. For more information, go to https://docs.nvidia.com/cuda/cublas/index.html#cublasApi_reproducibility (Triggered internally at ..\\aten\\src\\ATen\\Context.cpp:156.)\n",
      "  pred_dist = pred_dist.view(b, a, 4, c // 4).softmax(3).matmul(self.proj.type(pred_dist.dtype))\n",
      "      18/50      1.83G      1.183      1.148      1.449         48        800: 100%|██████████| 871/871 [01:09<00:00, 1\n",
      "                 Class     Images  Instances      Box(P          R      mAP50  mAP50-95): 100%|██████████| 47/47 [00:04"
     ]
    },
    {
     "name": "stdout",
     "output_type": "stream",
     "text": [
      "                   all        752        936      0.781      0.708      0.771      0.514\n"
     ]
    },
    {
     "name": "stderr",
     "output_type": "stream",
     "text": [
      "\n"
     ]
    },
    {
     "name": "stdout",
     "output_type": "stream",
     "text": [
      "\n",
      "      Epoch    GPU_mem   box_loss   cls_loss   dfl_loss  Instances       Size\n"
     ]
    },
    {
     "name": "stderr",
     "output_type": "stream",
     "text": [
      "  0%|          | 0/871 [00:00<?, ?it/s]C:\\Users\\user\\anaconda3\\lib\\site-packages\\ultralytics\\utils\\loss.py:202: UserWarning: Deterministic behavior was enabled with either `torch.use_deterministic_algorithms(True)` or `at::Context::setDeterministicAlgorithms(true)`, but this operation is not deterministic because it uses CuBLAS and you have CUDA >= 10.2. To enable deterministic behavior in this case, you must set an environment variable before running your PyTorch application: CUBLAS_WORKSPACE_CONFIG=:4096:8 or CUBLAS_WORKSPACE_CONFIG=:16:8. For more information, go to https://docs.nvidia.com/cuda/cublas/index.html#cublasApi_reproducibility (Triggered internally at ..\\aten\\src\\ATen\\Context.cpp:156.)\n",
      "  pred_dist = pred_dist.view(b, a, 4, c // 4).softmax(3).matmul(self.proj.type(pred_dist.dtype))\n",
      "      19/50      1.74G       1.18      1.123      1.438         19        800: 100%|██████████| 871/871 [01:08<00:00, 1\n",
      "                 Class     Images  Instances      Box(P          R      mAP50  mAP50-95): 100%|██████████| 47/47 [00:03"
     ]
    },
    {
     "name": "stdout",
     "output_type": "stream",
     "text": [
      "                   all        752        936      0.761      0.711      0.761       0.51\n"
     ]
    },
    {
     "name": "stderr",
     "output_type": "stream",
     "text": [
      "\n"
     ]
    },
    {
     "name": "stdout",
     "output_type": "stream",
     "text": [
      "\n",
      "      Epoch    GPU_mem   box_loss   cls_loss   dfl_loss  Instances       Size\n"
     ]
    },
    {
     "name": "stderr",
     "output_type": "stream",
     "text": [
      "  0%|          | 0/871 [00:00<?, ?it/s]C:\\Users\\user\\anaconda3\\lib\\site-packages\\ultralytics\\utils\\loss.py:202: UserWarning: Deterministic behavior was enabled with either `torch.use_deterministic_algorithms(True)` or `at::Context::setDeterministicAlgorithms(true)`, but this operation is not deterministic because it uses CuBLAS and you have CUDA >= 10.2. To enable deterministic behavior in this case, you must set an environment variable before running your PyTorch application: CUBLAS_WORKSPACE_CONFIG=:4096:8 or CUBLAS_WORKSPACE_CONFIG=:16:8. For more information, go to https://docs.nvidia.com/cuda/cublas/index.html#cublasApi_reproducibility (Triggered internally at ..\\aten\\src\\ATen\\Context.cpp:156.)\n",
      "  pred_dist = pred_dist.view(b, a, 4, c // 4).softmax(3).matmul(self.proj.type(pred_dist.dtype))\n",
      "      20/50      1.82G      1.158       1.09      1.425         15        800: 100%|██████████| 871/871 [01:09<00:00, 1\n",
      "                 Class     Images  Instances      Box(P          R      mAP50  mAP50-95): 100%|██████████| 47/47 [00:04"
     ]
    },
    {
     "name": "stdout",
     "output_type": "stream",
     "text": [
      "                   all        752        936      0.788      0.726      0.772      0.509\n"
     ]
    },
    {
     "name": "stderr",
     "output_type": "stream",
     "text": [
      "\n"
     ]
    },
    {
     "name": "stdout",
     "output_type": "stream",
     "text": [
      "\n",
      "      Epoch    GPU_mem   box_loss   cls_loss   dfl_loss  Instances       Size\n"
     ]
    },
    {
     "name": "stderr",
     "output_type": "stream",
     "text": [
      "  0%|          | 0/871 [00:00<?, ?it/s]C:\\Users\\user\\anaconda3\\lib\\site-packages\\ultralytics\\utils\\loss.py:202: UserWarning: Deterministic behavior was enabled with either `torch.use_deterministic_algorithms(True)` or `at::Context::setDeterministicAlgorithms(true)`, but this operation is not deterministic because it uses CuBLAS and you have CUDA >= 10.2. To enable deterministic behavior in this case, you must set an environment variable before running your PyTorch application: CUBLAS_WORKSPACE_CONFIG=:4096:8 or CUBLAS_WORKSPACE_CONFIG=:16:8. For more information, go to https://docs.nvidia.com/cuda/cublas/index.html#cublasApi_reproducibility (Triggered internally at ..\\aten\\src\\ATen\\Context.cpp:156.)\n",
      "  pred_dist = pred_dist.view(b, a, 4, c // 4).softmax(3).matmul(self.proj.type(pred_dist.dtype))\n",
      "      21/50      1.76G      1.148       1.06      1.416         11        800: 100%|██████████| 871/871 [01:09<00:00, 1\n",
      "                 Class     Images  Instances      Box(P          R      mAP50  mAP50-95): 100%|██████████| 47/47 [00:03"
     ]
    },
    {
     "name": "stdout",
     "output_type": "stream",
     "text": [
      "                   all        752        936       0.79      0.729      0.785      0.534\n"
     ]
    },
    {
     "name": "stderr",
     "output_type": "stream",
     "text": [
      "\n"
     ]
    },
    {
     "name": "stdout",
     "output_type": "stream",
     "text": [
      "\n",
      "      Epoch    GPU_mem   box_loss   cls_loss   dfl_loss  Instances       Size\n"
     ]
    },
    {
     "name": "stderr",
     "output_type": "stream",
     "text": [
      "  0%|          | 0/871 [00:00<?, ?it/s]C:\\Users\\user\\anaconda3\\lib\\site-packages\\ultralytics\\utils\\loss.py:202: UserWarning: Deterministic behavior was enabled with either `torch.use_deterministic_algorithms(True)` or `at::Context::setDeterministicAlgorithms(true)`, but this operation is not deterministic because it uses CuBLAS and you have CUDA >= 10.2. To enable deterministic behavior in this case, you must set an environment variable before running your PyTorch application: CUBLAS_WORKSPACE_CONFIG=:4096:8 or CUBLAS_WORKSPACE_CONFIG=:16:8. For more information, go to https://docs.nvidia.com/cuda/cublas/index.html#cublasApi_reproducibility (Triggered internally at ..\\aten\\src\\ATen\\Context.cpp:156.)\n",
      "  pred_dist = pred_dist.view(b, a, 4, c // 4).softmax(3).matmul(self.proj.type(pred_dist.dtype))\n",
      "      22/50      1.82G      1.124      1.055      1.396         17        800: 100%|██████████| 871/871 [01:09<00:00, 1\n",
      "                 Class     Images  Instances      Box(P          R      mAP50  mAP50-95): 100%|██████████| 47/47 [00:04"
     ]
    },
    {
     "name": "stdout",
     "output_type": "stream",
     "text": [
      "                   all        752        936      0.802      0.748      0.798      0.534\n"
     ]
    },
    {
     "name": "stderr",
     "output_type": "stream",
     "text": [
      "\n"
     ]
    },
    {
     "name": "stdout",
     "output_type": "stream",
     "text": [
      "\n",
      "      Epoch    GPU_mem   box_loss   cls_loss   dfl_loss  Instances       Size\n"
     ]
    },
    {
     "name": "stderr",
     "output_type": "stream",
     "text": [
      "  0%|          | 0/871 [00:00<?, ?it/s]C:\\Users\\user\\anaconda3\\lib\\site-packages\\ultralytics\\utils\\loss.py:202: UserWarning: Deterministic behavior was enabled with either `torch.use_deterministic_algorithms(True)` or `at::Context::setDeterministicAlgorithms(true)`, but this operation is not deterministic because it uses CuBLAS and you have CUDA >= 10.2. To enable deterministic behavior in this case, you must set an environment variable before running your PyTorch application: CUBLAS_WORKSPACE_CONFIG=:4096:8 or CUBLAS_WORKSPACE_CONFIG=:16:8. For more information, go to https://docs.nvidia.com/cuda/cublas/index.html#cublasApi_reproducibility (Triggered internally at ..\\aten\\src\\ATen\\Context.cpp:156.)\n",
      "  pred_dist = pred_dist.view(b, a, 4, c // 4).softmax(3).matmul(self.proj.type(pred_dist.dtype))\n",
      "      23/50      1.76G      1.126      1.028      1.389         13        800: 100%|██████████| 871/871 [01:09<00:00, 1\n",
      "                 Class     Images  Instances      Box(P          R      mAP50  mAP50-95): 100%|██████████| 47/47 [00:03"
     ]
    },
    {
     "name": "stdout",
     "output_type": "stream",
     "text": [
      "                   all        752        936      0.811      0.732      0.798      0.536\n"
     ]
    },
    {
     "name": "stderr",
     "output_type": "stream",
     "text": [
      "\n"
     ]
    },
    {
     "name": "stdout",
     "output_type": "stream",
     "text": [
      "\n",
      "      Epoch    GPU_mem   box_loss   cls_loss   dfl_loss  Instances       Size\n"
     ]
    },
    {
     "name": "stderr",
     "output_type": "stream",
     "text": [
      "  0%|          | 0/871 [00:00<?, ?it/s]C:\\Users\\user\\anaconda3\\lib\\site-packages\\ultralytics\\utils\\loss.py:202: UserWarning: Deterministic behavior was enabled with either `torch.use_deterministic_algorithms(True)` or `at::Context::setDeterministicAlgorithms(true)`, but this operation is not deterministic because it uses CuBLAS and you have CUDA >= 10.2. To enable deterministic behavior in this case, you must set an environment variable before running your PyTorch application: CUBLAS_WORKSPACE_CONFIG=:4096:8 or CUBLAS_WORKSPACE_CONFIG=:16:8. For more information, go to https://docs.nvidia.com/cuda/cublas/index.html#cublasApi_reproducibility (Triggered internally at ..\\aten\\src\\ATen\\Context.cpp:156.)\n",
      "  pred_dist = pred_dist.view(b, a, 4, c // 4).softmax(3).matmul(self.proj.type(pred_dist.dtype))\n",
      "      24/50      1.74G      1.102     0.9983      1.382         13        800: 100%|██████████| 871/871 [01:10<00:00, 1\n",
      "                 Class     Images  Instances      Box(P          R      mAP50  mAP50-95): 100%|██████████| 47/47 [00:04"
     ]
    },
    {
     "name": "stdout",
     "output_type": "stream",
     "text": [
      "                   all        752        936      0.867      0.711      0.813      0.547\n"
     ]
    },
    {
     "name": "stderr",
     "output_type": "stream",
     "text": [
      "\n"
     ]
    },
    {
     "name": "stdout",
     "output_type": "stream",
     "text": [
      "\n",
      "      Epoch    GPU_mem   box_loss   cls_loss   dfl_loss  Instances       Size\n"
     ]
    },
    {
     "name": "stderr",
     "output_type": "stream",
     "text": [
      "  0%|          | 0/871 [00:00<?, ?it/s]C:\\Users\\user\\anaconda3\\lib\\site-packages\\ultralytics\\utils\\loss.py:202: UserWarning: Deterministic behavior was enabled with either `torch.use_deterministic_algorithms(True)` or `at::Context::setDeterministicAlgorithms(true)`, but this operation is not deterministic because it uses CuBLAS and you have CUDA >= 10.2. To enable deterministic behavior in this case, you must set an environment variable before running your PyTorch application: CUBLAS_WORKSPACE_CONFIG=:4096:8 or CUBLAS_WORKSPACE_CONFIG=:16:8. For more information, go to https://docs.nvidia.com/cuda/cublas/index.html#cublasApi_reproducibility (Triggered internally at ..\\aten\\src\\ATen\\Context.cpp:156.)\n",
      "  pred_dist = pred_dist.view(b, a, 4, c // 4).softmax(3).matmul(self.proj.type(pred_dist.dtype))\n",
      "      25/50       1.8G      1.091     0.9835      1.376         13        800: 100%|██████████| 871/871 [01:09<00:00, 1\n",
      "                 Class     Images  Instances      Box(P          R      mAP50  mAP50-95): 100%|██████████| 47/47 [00:03"
     ]
    },
    {
     "name": "stdout",
     "output_type": "stream",
     "text": [
      "                   all        752        936      0.856      0.719      0.811      0.554\n"
     ]
    },
    {
     "name": "stderr",
     "output_type": "stream",
     "text": [
      "\n"
     ]
    },
    {
     "name": "stdout",
     "output_type": "stream",
     "text": [
      "\n",
      "      Epoch    GPU_mem   box_loss   cls_loss   dfl_loss  Instances       Size\n"
     ]
    },
    {
     "name": "stderr",
     "output_type": "stream",
     "text": [
      "  0%|          | 0/871 [00:00<?, ?it/s]C:\\Users\\user\\anaconda3\\lib\\site-packages\\ultralytics\\utils\\loss.py:202: UserWarning: Deterministic behavior was enabled with either `torch.use_deterministic_algorithms(True)` or `at::Context::setDeterministicAlgorithms(true)`, but this operation is not deterministic because it uses CuBLAS and you have CUDA >= 10.2. To enable deterministic behavior in this case, you must set an environment variable before running your PyTorch application: CUBLAS_WORKSPACE_CONFIG=:4096:8 or CUBLAS_WORKSPACE_CONFIG=:16:8. For more information, go to https://docs.nvidia.com/cuda/cublas/index.html#cublasApi_reproducibility (Triggered internally at ..\\aten\\src\\ATen\\Context.cpp:156.)\n",
      "  pred_dist = pred_dist.view(b, a, 4, c // 4).softmax(3).matmul(self.proj.type(pred_dist.dtype))\n",
      "      26/50      1.82G      1.078     0.9612      1.348          9        800: 100%|██████████| 871/871 [01:08<00:00, 1\n",
      "                 Class     Images  Instances      Box(P          R      mAP50  mAP50-95): 100%|██████████| 47/47 [00:03"
     ]
    },
    {
     "name": "stdout",
     "output_type": "stream",
     "text": [
      "                   all        752        936      0.833      0.717       0.81      0.544\n"
     ]
    },
    {
     "name": "stderr",
     "output_type": "stream",
     "text": [
      "\n"
     ]
    },
    {
     "name": "stdout",
     "output_type": "stream",
     "text": [
      "\n",
      "      Epoch    GPU_mem   box_loss   cls_loss   dfl_loss  Instances       Size\n"
     ]
    },
    {
     "name": "stderr",
     "output_type": "stream",
     "text": [
      "  0%|          | 0/871 [00:00<?, ?it/s]C:\\Users\\user\\anaconda3\\lib\\site-packages\\ultralytics\\utils\\loss.py:202: UserWarning: Deterministic behavior was enabled with either `torch.use_deterministic_algorithms(True)` or `at::Context::setDeterministicAlgorithms(true)`, but this operation is not deterministic because it uses CuBLAS and you have CUDA >= 10.2. To enable deterministic behavior in this case, you must set an environment variable before running your PyTorch application: CUBLAS_WORKSPACE_CONFIG=:4096:8 or CUBLAS_WORKSPACE_CONFIG=:16:8. For more information, go to https://docs.nvidia.com/cuda/cublas/index.html#cublasApi_reproducibility (Triggered internally at ..\\aten\\src\\ATen\\Context.cpp:156.)\n",
      "  pred_dist = pred_dist.view(b, a, 4, c // 4).softmax(3).matmul(self.proj.type(pred_dist.dtype))\n",
      "      27/50      1.74G      1.067     0.9445      1.352         18        800: 100%|██████████| 871/871 [01:09<00:00, 1\n",
      "                 Class     Images  Instances      Box(P          R      mAP50  mAP50-95): 100%|██████████| 47/47 [00:03"
     ]
    },
    {
     "name": "stdout",
     "output_type": "stream",
     "text": [
      "                   all        752        936       0.86      0.708      0.814      0.553\n"
     ]
    },
    {
     "name": "stderr",
     "output_type": "stream",
     "text": [
      "\n"
     ]
    },
    {
     "name": "stdout",
     "output_type": "stream",
     "text": [
      "\n",
      "      Epoch    GPU_mem   box_loss   cls_loss   dfl_loss  Instances       Size\n"
     ]
    },
    {
     "name": "stderr",
     "output_type": "stream",
     "text": [
      "  0%|          | 0/871 [00:00<?, ?it/s]C:\\Users\\user\\anaconda3\\lib\\site-packages\\ultralytics\\utils\\loss.py:202: UserWarning: Deterministic behavior was enabled with either `torch.use_deterministic_algorithms(True)` or `at::Context::setDeterministicAlgorithms(true)`, but this operation is not deterministic because it uses CuBLAS and you have CUDA >= 10.2. To enable deterministic behavior in this case, you must set an environment variable before running your PyTorch application: CUBLAS_WORKSPACE_CONFIG=:4096:8 or CUBLAS_WORKSPACE_CONFIG=:16:8. For more information, go to https://docs.nvidia.com/cuda/cublas/index.html#cublasApi_reproducibility (Triggered internally at ..\\aten\\src\\ATen\\Context.cpp:156.)\n",
      "  pred_dist = pred_dist.view(b, a, 4, c // 4).softmax(3).matmul(self.proj.type(pred_dist.dtype))\n",
      "      28/50      1.74G      1.069     0.9532      1.343         17        800:  44%|████▍     | 386/871 [00:30<00:38, 1"
     ]
    }
   ],
   "source": [
    "# 하이퍼파리미터 + 파라미터 튜닝 하는 부분\n",
    "\n",
    "def objective(trial):\n",
    "    try:\n",
    "        lr0 = trial.suggest_float('lr0', 1e-4, 1e-1, log=True)\n",
    "        batch = trial.suggest_categorical('batch', [8, 16, 32])\n",
    "        mosaic = trial.suggest_float('mosaic', 0.0, 1.0)\n",
    "        epochs = 50\n",
    "\n",
    "        model = YOLO('yolov8n.pt')\n",
    "        results = model.train(\n",
    "            data=r\"C:\\Users\\user\\Downloads\\dataset\\dataset\\data.yaml\",\n",
    "            epochs=epochs,\n",
    "            lr0=lr0,\n",
    "            batch=batch,\n",
    "            mosaic=mosaic,\n",
    "            imgsz=800,\n",
    "            device='cuda',\n",
    "            patience=20,\n",
    "            verbose=False\n",
    "        )\n",
    "\n",
    "        try:\n",
    "            map50 = results.metrics['metrics/val_map_0.5']\n",
    "        except Exception:\n",
    "            map50 = results.metrics.map_50\n",
    "\n",
    "        return map50\n",
    "    except Exception as e:\n",
    "        print(f\"Trial failed with error: {e}\")\n",
    "        return 0.0\n",
    "\n",
    "study = optuna.create_study(direction='maximize')\n",
    "study.optimize(objective, n_trials=10)\n",
    "print(\"Best params:\", study.best_params)\n"
   ]
  },
  {
   "cell_type": "code",
   "execution_count": 9,
   "id": "d22cc899",
   "metadata": {},
   "outputs": [
    {
     "ename": "NameError",
     "evalue": "name 'study' is not defined",
     "output_type": "error",
     "traceback": [
      "\u001b[1;31m---------------------------------------------------------------------------\u001b[0m",
      "\u001b[1;31mNameError\u001b[0m                                 Traceback (most recent call last)",
      "Cell \u001b[1;32mIn[9], line 4\u001b[0m\n\u001b[0;32m      1\u001b[0m \u001b[38;5;66;03m# 최적화 하이퍼파라미터와 파러미터 간 상관관계, 파라미터별 성능 분포 시각화 파트\u001b[39;00m\n\u001b[0;32m      2\u001b[0m \n\u001b[0;32m      3\u001b[0m \u001b[38;5;66;03m# 1. 최적화 히스토리(각 trial별 best value 변화)\u001b[39;00m\n\u001b[1;32m----> 4\u001b[0m fig1 \u001b[38;5;241m=\u001b[39m plot_optimization_history(\u001b[43mstudy\u001b[49m)\n\u001b[0;32m      5\u001b[0m fig1\u001b[38;5;241m.\u001b[39mshow()\n\u001b[0;32m      7\u001b[0m \u001b[38;5;66;03m# 2. 하이퍼파라미터 중요도(어떤 파라미터가 성능에 영향이 큰지)\u001b[39;00m\n",
      "\u001b[1;31mNameError\u001b[0m: name 'study' is not defined"
     ]
    }
   ],
   "source": [
    "# 최적화 하이퍼파라미터와 파러미터 간 상관관계, 파라미터별 성능 분포 시각화 파트\n",
    "\n",
    "# 1. 최적화 히스토리(각 trial별 best value 변화)\n",
    "fig1 = plot_optimization_history(study)\n",
    "fig1.show()\n",
    "\n",
    "# 2. 하이퍼파라미터 중요도(어떤 파라미터가 성능에 영향이 큰지)\n",
    "fig2 = plot_param_importances(study)\n",
    "fig2.show()\n",
    "\n",
    "# 3. 파라미터 간 상관관계(Parallel Coordinate)\n",
    "fig3 = plot_parallel_coordinate(study)\n",
    "fig3.show()\n",
    "\n",
    "# 4. 파라미터별 성능 분포(Slice Plot)\n",
    "fig4 = plot_slice(study)\n",
    "fig4.show()"
   ]
  },
  {
   "cell_type": "code",
   "execution_count": 11,
   "id": "1579d60f",
   "metadata": {},
   "outputs": [
    {
     "name": "stdout",
     "output_type": "stream",
     "text": [
      "Best model path: runs/detect/train35/weights/best.pt\n",
      "Ultralytics 8.3.0  Python-3.10.9 torch-2.0.1+cu117 CUDA:0 (NVIDIA GeForce RTX 3080, 10240MiB)\n",
      "Model summary (fused): 186 layers, 2,685,148 parameters, 0 gradients, 6.8 GFLOPs\n"
     ]
    },
    {
     "name": "stderr",
     "output_type": "stream",
     "text": [
      "\u001b[34m\u001b[1mval: \u001b[0mScanning C:\\Users\\user\\Downloads\\dataset\\dataset\\labels\\test... 561 images, 0 backgrounds, 0 corrupt: 100%|███████\u001b[0m\n"
     ]
    },
    {
     "name": "stdout",
     "output_type": "stream",
     "text": [
      "\u001b[34m\u001b[1mval: \u001b[0mNew cache created: C:\\Users\\user\\Downloads\\dataset\\dataset\\labels\\test.cache\n"
     ]
    },
    {
     "name": "stderr",
     "output_type": "stream",
     "text": [
      "                 Class     Images  Instances      Box(P          R      mAP50  mAP50-95): 100%|██████████| 71/71 [00:04\n"
     ]
    },
    {
     "name": "stdout",
     "output_type": "stream",
     "text": [
      "                   all        561        687      0.871      0.787      0.855      0.614\n",
      "                 flood        135        207      0.872      0.727      0.782      0.634\n",
      "                  fire        106        142      0.941      0.944      0.965      0.659\n",
      "              accident        236        249      0.833      0.703      0.822      0.534\n",
      "              sinkhole         84         89      0.838      0.775      0.851      0.631\n",
      "Speed: 0.3ms preprocess, 2.7ms inference, 0.0ms loss, 0.9ms postprocess per image\n",
      "Saving runs\\detect\\disaster_detection_test7\\predictions.json...\n",
      "Results saved to \u001b[1mruns\\detect\\disaster_detection_test7\u001b[0m\n",
      "\n",
      "📊 최종 테스트 결과 리포트\n",
      "mAP50: 0.8550\n",
      "Precision: 0.8711\n",
      "Recall: 0.7872\n"
     ]
    }
   ],
   "source": [
    "# 최적의 하이퍼파라미터로 테스트 진행\n",
    "\n",
    "def test_model(model):\n",
    "    # 1. 테스트 데이터셋 설정\n",
    "    test_params = {\n",
    "        'data': r\"C:\\Users\\user\\Downloads\\dataset\\dataset\\data.yaml\",\n",
    "        'split': 'test',  \n",
    "        'batch': 8,\n",
    "        'name': 'disaster_detection_test',\n",
    "        'plots': True,    \n",
    "        'save_json': True\n",
    "    }\n",
    "    \n",
    "    # 2. 테스트 실행\n",
    "    results = model.val(**test_params)\n",
    "    \n",
    "    # 3. 결과 출력\n",
    "    print(\"\\n📊 최종 테스트 결과 리포트\")\n",
    "    print(f\"mAP50: {results.box.map50:.4f}\")\n",
    "    print(f\"Precision: {np.mean(results.box.p):.4f}\")\n",
    "    print(f\"Recall: {np.mean(results.box.r):.4f}\")\n",
    "    \n",
    "    return results\n",
    "\n",
    "best_model_path = f\"runs/detect/train35/weights/best.pt\"\n",
    "print(\"Best model path:\", best_model_path)\n",
    "\n",
    "model = YOLO(best_model_path)\n",
    "test_result = test_model(model)"
   ]
  },
  {
   "cell_type": "code",
   "execution_count": null,
   "id": "1f81df0b",
   "metadata": {},
   "outputs": [],
   "source": [
    "# 랜덤 5개 이미지에 대한 테스트 시각화\n",
    "\n",
    "def visualize_extreme_diverse_predictions(model):\n",
    "    test_images_dir = r\"C:\\Users\\user\\Downloads\\dataset\\dataset\\images\\test\"\n",
    "    all_images = os.listdir(test_images_dir)\n",
    "\n",
    "    # 파일명에서 첫 단어로 그룹화\n",
    "    image_groups = defaultdict(list)\n",
    "    for img in all_images:\n",
    "        if img:\n",
    "            group_key = img.split('_')[0]  # 예: 'cat_01.jpg' → 'cat'\n",
    "            image_groups[group_key].append(img)\n",
    "\n",
    "    # 각 그룹에서 하나씩 뽑아 다양성 확보\n",
    "    selected_images = [random.choice(group) for group in image_groups.values()]\n",
    "\n",
    "    # 그룹이 5개 이상이면 랜덤하게 5개만 선택\n",
    "    if len(selected_images) > 5:\n",
    "        selected_images = random.sample(selected_images, 5)\n",
    "\n",
    "    # 선택된 이미지에 대해 예측 및 결과 저장\n",
    "    for img_name in selected_images:\n",
    "        img_path = os.path.join(test_images_dir, img_name)\n",
    "        results = model.predict(\n",
    "            source=img_path,\n",
    "            save=True,\n",
    "            conf=0.5,  # 신뢰도 임계값\n",
    "            save_dir='test_results'  # 예측 결과 저장 경로\n",
    "        )\n",
    "        print(f\"{img_name} 예측 완료 → test_results 디렉토리 확인\")\n",
    "\n",
    "visualize_extreme_diverse_predictions(model)"
   ]
  },
  {
   "cell_type": "code",
   "execution_count": null,
   "id": "ed5c28c6",
   "metadata": {},
   "outputs": [],
   "source": []
  }
 ],
 "metadata": {
  "kernelspec": {
   "display_name": "Python 3 (ipykernel)",
   "language": "python",
   "name": "python3"
  },
  "language_info": {
   "codemirror_mode": {
    "name": "ipython",
    "version": 3
   },
   "file_extension": ".py",
   "mimetype": "text/x-python",
   "name": "python",
   "nbconvert_exporter": "python",
   "pygments_lexer": "ipython3",
   "version": "3.10.9"
  }
 },
 "nbformat": 4,
 "nbformat_minor": 5
}
