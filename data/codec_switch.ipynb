{
 "cells": [
  {
   "cell_type": "code",
   "execution_count": 2,
   "id": "8b1c363f-4905-4429-be8b-15d58b812bab",
   "metadata": {},
   "outputs": [
    {
     "name": "stdout",
     "output_type": "stream",
     "text": [
      "Conversion complete: MOV to MP4\n"
     ]
    }
   ],
   "source": [
    "import cv2 as cv\n",
    "\n",
    "# 입력 및 출력 파일 경로 지정\n",
    "input_path = r'C:\\Users\\user\\Downloads\\IMG_5533.mov'   # 변환할 MOV 파일명\n",
    "output_path = r'C:\\Users\\user\\Downloads\\gongneung2.mp4' # 저장할 MP4 파일명\n",
    "\n",
    "# 비디오 파일 열기\n",
    "cap = cv.VideoCapture(input_path)\n",
    "\n",
    "# 프레임 정보 가져오기\n",
    "frame_width = int(cap.get(cv.CAP_PROP_FRAME_WIDTH))\n",
    "frame_height = int(cap.get(cv.CAP_PROP_FRAME_HEIGHT))\n",
    "fps = cap.get(cv.CAP_PROP_FPS)\n",
    "\n",
    "# MP4 코덱 설정 및 VideoWriter 객체 생성\n",
    "fourcc = cv.VideoWriter_fourcc(*'mp4v')\n",
    "out = cv.VideoWriter(output_path, fourcc, fps, (frame_width, frame_height))\n",
    "\n",
    "while cap.isOpened():\n",
    "    ret, frame = cap.read()\n",
    "    if not ret:\n",
    "        break\n",
    "    out.write(frame)\n",
    "\n",
    "cap.release()\n",
    "out.release()\n",
    "\n",
    "print('Conversion complete: MOV to MP4')\n"
   ]
  },
  {
   "cell_type": "code",
   "execution_count": null,
   "id": "7505bbe8-43d4-4c77-931c-c508ed39f353",
   "metadata": {},
   "outputs": [],
   "source": []
  }
 ],
 "metadata": {
  "kernelspec": {
   "display_name": "Python 3 (ipykernel)",
   "language": "python",
   "name": "python3"
  },
  "language_info": {
   "codemirror_mode": {
    "name": "ipython",
    "version": 3
   },
   "file_extension": ".py",
   "mimetype": "text/x-python",
   "name": "python",
   "nbconvert_exporter": "python",
   "pygments_lexer": "ipython3",
   "version": "3.10.9"
  }
 },
 "nbformat": 4,
 "nbformat_minor": 5
}
